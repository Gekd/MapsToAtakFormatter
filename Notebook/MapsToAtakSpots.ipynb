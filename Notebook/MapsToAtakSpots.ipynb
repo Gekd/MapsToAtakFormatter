{
  "cells": [
    {
      "cell_type": "code",
      "execution_count": null,
      "metadata": {
        "id": "U64YVJsSaSUY"
      },
      "outputs": [],
      "source": [
        "# Import dependencies\n",
        "from PIL import Image, ImageDraw, ImageFont\n",
        "import requests\n",
        "from zipfile import ZipFile, ZIP_DEFLATED\n",
        "import shutil\n",
        "from io import BytesIO\n",
        "import os"
      ]
    },
    {
      "cell_type": "markdown",
      "metadata": {
        "id": "25X6OeZM0fKt"
      },
      "source": [
        "# 1. Google Maps layer data gathering"
      ]
    },
    {
      "cell_type": "code",
      "execution_count": 5,
      "metadata": {
        "id": "kD0LZU-d0qz5"
      },
      "outputs": [],
      "source": [
        "# Project URL must be int this format: https://www.google.com/maps/d/edit?mid=...&usp=sharing\n",
        "project_url = YOUR_PROJECT_URL\n",
        "\n",
        "# Extract id from project URL\n",
        "id = project_url.replace(\"&usp=\", \"?mid=\").split(\"?mid=\")[1]"
      ]
    },
    {
      "cell_type": "code",
      "execution_count": 6,
      "metadata": {
        "id": "GTiP3tMEaPiL"
      },
      "outputs": [],
      "source": [
        "url = \"https://www.google.com/maps/d/kml?mid=\" + id\n",
        "\n",
        "# Download project files\n",
        "response = requests.get(url)"
      ]
    },
    {
      "cell_type": "code",
      "execution_count": 7,
      "metadata": {
        "id": "8bodvErGbN44"
      },
      "outputs": [],
      "source": [
        "# Save the respone as .kmz file\n",
        "kmz_file_name = \"response.kmz\"\n",
        "with open(kmz_file_name, mode=\"wb\") as file:\n",
        "  file.write(response.content)"
      ]
    },
    {
      "cell_type": "code",
      "execution_count": 8,
      "metadata": {
        "id": "I0q-HLG7cMHC"
      },
      "outputs": [],
      "source": [
        "# Extract .kmz file content to content folder\n",
        "kml_file_name = \"response.kml\"\n",
        "# .kmz to .kml conversion\n",
        "with ZipFile(kmz_file_name) as kmzFile:\n",
        "    # extract files\n",
        "    kmzFile.extractall(\"content\")\n",
        "\n",
        "current_path = os.getcwd()\n",
        "\n",
        "# Remove old pictures files, to correct any data errors\n",
        "shutil.rmtree(f\"{current_path}/content/images\")\n",
        "os.remove(f\"{current_path}/response.kmz\")\n"
      ]
    },
    {
      "cell_type": "code",
      "execution_count": 9,
      "metadata": {
        "colab": {
          "base_uri": "https://localhost:8080/"
        },
        "id": "AglCOeCpg2RN",
        "outputId": "15683e24-7cf8-45b1-a5c4-3ad8efd98db2"
      },
      "outputs": [
        {
          "name": "stdout",
          "output_type": "stream",
          "text": [
            "Folder Name: 0 - Maantee\n",
            "Saved new KML file: /content/content/0-red/0-red.kml\n",
            "Folder Name: 1 - Linn\n",
            "Saved new KML file: /content/content/2-blue/2-blue.kml\n",
            "Folder Name: 2 - B teed\n",
            "Saved new KML file: /content/content/3-green/3-green.kml\n",
            "Folder Name: 3 - kruus\n",
            "Saved new KML file: /content/content/4-yellow/4-yellow.kml\n",
            "Folder Name: 4 - Op-ala\n",
            "Saved new KML file: /content/content/1-white/1-white.kml\n",
            "Folder Name: 5 - Autod\n"
          ]
        }
      ],
      "source": [
        "import xml.etree.ElementTree as ET\n",
        "\n",
        "# Load the .kml file\n",
        "tree = ET.parse(f\"{current_path}/content/doc.kml\")\n",
        "root = tree.getroot()\n",
        "\n",
        "# Namespace to account for XML tags\n",
        "namespace = '{http://www.opengis.net/kml/2.2}'\n",
        "\n",
        "# This is done for the purpose of displaying red markers on top of other layers\n",
        "data_correction = {\n",
        "  \"0\": \"0-red\",\n",
        "  \"1\": \"2-blue\",\n",
        "  \"2\": \"3-green\",\n",
        "  \"3\": \"4-yellow\",\n",
        "  \"4\": \"1-white\",\n",
        "}\n",
        "\n",
        "data_count = {\n",
        "  \"0-red\": 0,\n",
        "  \"1-white\": 0,\n",
        "  \"2-blue\": 0,\n",
        "  \"3-green\": 0,\n",
        "  \"4-yellow\": 0,\n",
        "}\n",
        "\n",
        "# Iterate through all the elements to find Folder tags\n",
        "for elem in root.iter():\n",
        "\n",
        "    # Layers are represented with Folder tag\n",
        "    if elem.tag.endswith('Folder'):\n",
        "        # Find the folder name\n",
        "        folder_name = elem.find(f'{namespace}name')\n",
        "\n",
        "        if folder_name is not None:\n",
        "            # Print folder name for verification\n",
        "            print(f'Folder Name: {folder_name.text}')\n",
        "\n",
        "            # Create a new KML structure with just this folder\n",
        "            new_kml = ET.Element('kml', xmlns=\"http://www.opengis.net/kml/2.2\")\n",
        "            document = ET.SubElement(new_kml, 'Document')  # Add a Document tag\n",
        "            folder_copy = ET.SubElement(document, 'Folder')  # Copy the Folder element into the new document\n",
        "\n",
        "            folder_nr = folder_name.text.strip().split(\" - \")[0]\n",
        "\n",
        "            # Ignore data inside 5\n",
        "            if folder_nr != \"5\":\n",
        "\n",
        "              # Folder element name\n",
        "              current_folder_name = folder_copy.find(f'{namespace}name')\n",
        "\n",
        "              # Renaming it with our naming convention\n",
        "              if current_folder_name is not None:\n",
        "                current_folder_name.text = data_correction[folder_nr]\n",
        "\n",
        "              child_count = -1\n",
        "              for child in elem:\n",
        "                child_count += 1\n",
        "\n",
        "                if child.tag == f\"{namespace}Placemark\":\n",
        "                  name_element = child.find(f'{namespace}name')\n",
        "                  if name_element is not None:\n",
        "                    name_element.text =  data_correction[folder_nr] + \"-\" + str(child_count).zfill(5)\n",
        "                  else:\n",
        "                    print(\"Warning: <name> tag not found in Placemark\")\n",
        "\n",
        "                # Append the modified (or unmodified) child to the folder_copy\n",
        "                folder_copy.append(child)\n",
        "\n",
        "              # Save the counts for image creation\n",
        "              data_count[data_correction[folder_nr]] = child_count\n",
        "\n",
        "              # Create new folder\n",
        "              new_folder_name = f\"{current_path}/content/{data_correction[folder_nr]}\"\n",
        "              os.makedirs(new_folder_name, exist_ok=True)\n",
        "\n",
        "\n",
        "              # Save the new KML file with the folder's name\n",
        "              new_kml_tree = ET.ElementTree(new_kml)\n",
        "              new_filename = f\"{current_path}/content/{data_correction[folder_nr]}/{data_correction[folder_nr]}.kml\"\n",
        "              new_kml_tree.write(new_filename)\n",
        "              print(f'Saved new KML file: {new_filename}')\n",
        "\n",
        "# Remove unneccesary files\n",
        "os.remove(f\"{current_path}/content/doc.kml\")"
      ]
    },
    {
      "cell_type": "markdown",
      "metadata": {
        "id": "dnADOJknyqMp"
      },
      "source": [
        "# Generate spot images"
      ]
    },
    {
      "cell_type": "code",
      "execution_count": 10,
      "metadata": {
        "id": "gC5Cq-t0ruH4"
      },
      "outputs": [],
      "source": [
        "font_url = \"https://raw.githubusercontent.com/tsenart/sight/master/fonts/Consolas.ttf\"\n",
        "\n",
        "# Fetch the font file from the URL\n",
        "response = requests.get(font_url)\n",
        "font_height = 26\n",
        "font = ImageFont.truetype(BytesIO(response.content), font_height)\n"
      ]
    },
    {
      "cell_type": "code",
      "execution_count": 11,
      "metadata": {
        "id": "Batr_ilXyyL5"
      },
      "outputs": [],
      "source": [
        "img_size = 32, 32\n",
        "text_size = 20,10\n",
        "\n",
        "# Spot colours\n",
        "blue = (60, 160, 230)\n",
        "red = (145, 40, 40)\n",
        "white = (255, 255, 255)\n",
        "yellow = (255, 255, 30)\n",
        "green = (55, 165, 50)\n",
        "\n",
        "local_path = f\"{current_path}/content\""
      ]
    },
    {
      "cell_type": "code",
      "execution_count": 12,
      "metadata": {
        "id": "8hZrTdG30QWE"
      },
      "outputs": [],
      "source": [
        "def drawImage(number, img_name, color, path):\n",
        "  H = 32\n",
        "\n",
        "  char_width = 0.55\n",
        "  number_length = len(str(abs(number)))\n",
        "  W = round(font_height*number_length*char_width) + 8\n",
        "\n",
        "  img = Image.new('RGB', (W,H), (0, 0, 0, 0))\n",
        "  draw = ImageDraw.Draw(img)\n",
        "  draw.rounded_rectangle((0, 0, W-1, H-1), fill=color, outline=(255, 255, 255), width=1, radius=4)\n",
        "\n",
        "  if color == \"white\" or color == \"yellow\":\n",
        "    draw.text((4, 4), str(number),font=font, fill=(0,0,0))\n",
        "  else:\n",
        "    draw.text((4, 4), str(number),font=font, fill=(255,255,255))\n",
        "\n",
        "  img.save(os.path.join(img_dir_path, str(img_name) + '.png'))\n"
      ]
    },
    {
      "cell_type": "code",
      "execution_count": 13,
      "metadata": {
        "id": "u0jlnhXmsmDl"
      },
      "outputs": [],
      "source": [
        "for dir_name in os.listdir(local_path):\n",
        "  dir_path = os.path.join(local_path, dir_name)\n",
        "\n",
        "  img_dir_path = os.path.join(dir_path, \"images\")\n",
        "\n",
        "\n",
        "  os.makedirs(img_dir_path, exist_ok=True)\n",
        "\n",
        "  img_count = data_count[dir_name]\n",
        "  color = dir_name.split(\"-\")[1]\n",
        "\n",
        "  for i in range(img_count):\n",
        "    img_name = dir_name + \"-\" + str(i+1).zfill(5)\n",
        "    drawImage(i+1, img_name, color, img_dir_path)\n"
      ]
    },
    {
      "cell_type": "code",
      "execution_count": null,
      "metadata": {
        "id": "6rLUlwGXBcZw"
      },
      "outputs": [],
      "source": [
        "#shutil.rmtree(f\"{current_path}/content/.ipynb_checkpoints\")\n",
        "shutil.rmtree(f\"{current_path}//output/\")\n",
        "#shutil.rmtree(f\"{current_path}/sample_data\")"
      ]
    },
    {
      "cell_type": "markdown",
      "metadata": {
        "id": "O_aDA9RCFteH"
      },
      "source": [
        "# Pack the files to .kmz format"
      ]
    },
    {
      "cell_type": "code",
      "execution_count": 14,
      "metadata": {
        "id": "alG_jTBFCGPl"
      },
      "outputs": [],
      "source": [
        "response_path = '/content/output'\n",
        "# Make sure the response dir exist\n",
        "os.makedirs(response_path, exist_ok=True)\n",
        "\n",
        "for dir_name in os.listdir(local_path):\n",
        "  dir_path = os.path.join(local_path, dir_name)\n",
        "\n",
        "  kmz_filename = f\"{dir_name}.kmz\"\n",
        "  kmz_file_path = os.path.join(response_path, kmz_filename)\n",
        "\n",
        "  with ZipFile(kmz_file_path, 'w', compression=ZIP_DEFLATED) as kmz:\n",
        "    for root, dirs, files in os.walk(dir_path):\n",
        "        for file in files:\n",
        "            file_path = os.path.join(root, file)\n",
        "\n",
        "            # Use arcname to maintain the directory structure inside the KMZ\n",
        "            arcname = os.path.relpath(file_path, dir_path)\n",
        "            kmz.write(file_path, arcname=arcname)\n",
        "\n",
        "shutil.rmtree(f\"{current_path}/content/\")"
      ]
    }
  ],
  "metadata": {
    "colab": {
      "provenance": []
    },
    "kernelspec": {
      "display_name": "Python 3",
      "name": "python3"
    },
    "language_info": {
      "name": "python"
    }
  },
  "nbformat": 4,
  "nbformat_minor": 0
}
